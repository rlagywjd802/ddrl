{
 "cells": [
  {
   "cell_type": "markdown",
   "id": "marine-taiwan",
   "metadata": {},
   "source": [
    "Jupyterlab Shortcuts\n",
    "- Shift + Enter : Run\n",
    "- Enter/Esc : Mode change(Edit/Command)\n",
    "- Fn + Up/Down : Move between cell \n",
    "- A / B : Insert Cell Above/Below\n",
    "- D, D : Delete selected cell"
   ]
  },
  {
   "cell_type": "code",
   "execution_count": 6,
   "id": "sexual-google",
   "metadata": {},
   "outputs": [
    {
     "name": "stdout",
     "output_type": "stream",
     "text": [
      "4 2\n"
     ]
    }
   ],
   "source": [
    "env = gym.make('CartPole-v0')\n",
    "state = env.reset()\n",
    "\n",
    "# for discrete env\n",
    "state_dim = env.observation_space.shape[0]\n",
    "action_dim = env.action_space.n\n",
    "\n",
    "print(state_dim, action_dim)"
   ]
  },
  {
   "cell_type": "code",
   "execution_count": 4,
   "id": "chicken-domestic",
   "metadata": {},
   "outputs": [],
   "source": [
    "from collections import deque\n",
    "import numpy as np\n",
    "import random\n",
    "import gym\n",
    "\n",
    "import torch\n",
    "import torch.nn as nn\n",
    "import torch.nn.functional as F\n",
    "import torch.optim as optim"
   ]
  },
  {
   "cell_type": "code",
   "execution_count": 5,
   "id": "promotional-devon",
   "metadata": {},
   "outputs": [],
   "source": [
    "class Net(nn.Module):\n",
    "    def __init__(self, state_dim, action_dim):\n",
    "        super(Net, self).__init__()\n",
    "        self.fc1 = nn.Linear(state_dim, 120)\n",
    "        self.fc2 = nn.Linear(120, 84)\n",
    "        self.fc3 = nn.Linear(84, action_dim)\n",
    "    \n",
    "    def forward(self, state):\n",
    "        out = F.relu(self.fc1(state))\n",
    "        out = F.relu(self.fc2(out))\n",
    "        out = F.softmax(self.fc3(out), dim=1) \n",
    "        return out"
   ]
  },
  {
   "cell_type": "code",
   "execution_count": 18,
   "id": "freelance-arrest",
   "metadata": {},
   "outputs": [],
   "source": [
    "q = Net(state_dim, action_dim)\n",
    "qtarget = Net(state_dim, action_dim)"
   ]
  },
  {
   "cell_type": "code",
   "execution_count": 21,
   "id": "imported-switzerland",
   "metadata": {},
   "outputs": [
    {
     "name": "stdout",
     "output_type": "stream",
     "text": [
      "tensor([-0.3967, -0.3701,  0.4617, -0.1940])\n",
      "tensor([-0.3967, -0.3701,  0.4617, -0.1940])\n",
      "tensor([-0.3967, -0.3701,  0.4617, -0.1940])\n",
      "tensor([-0.3967, -0.3701,  0.4617, -0.1940])\n"
     ]
    }
   ],
   "source": [
    "# network의 weight값을 print\n",
    "# network의 weight값을 다른 network의 weight값으로 맞춰줌\n",
    "weight_name = 'fc1.weight'\n",
    "print(q.state_dict()[weight_name][1])\n",
    "print(qtarget.state_dict()[weight_name][1])\n",
    "qtarget.load_state_dict(q.state_dict())\n",
    "print(q.state_dict()[weight_name][1])\n",
    "print(qtarget.state_dict()[weight_name][1])"
   ]
  },
  {
   "cell_type": "code",
   "execution_count": null,
   "id": "prime-virginia",
   "metadata": {},
   "outputs": [],
   "source": [
    "class DQNAgent():\n",
    "    def __init__(self, env, epsilon):\n",
    "        # if env is discrete,\n",
    "        state_dim = env.observation_space.shape[0]\n",
    "        action_dim = env.action_space.n\n",
    "        \n",
    "        self.epsilon = epsilon\n",
    "                \n",
    "        self.q = Net(state_dim, action_dim)\n",
    "        self.qtarget = Net(state_dim, action_dim)\n",
    "        \n",
    "        self.optimizer = optim.Adam(self.q.parameters())\n",
    "    \n",
    "    def update_qtarget_parameter(self):\n",
    "        self.qtarget.load_state_dict(self.q.state_dict())    \n",
    "    \n",
    "    def get_action(self, state):\n",
    "        qval = self.q.forward(state)\n",
    "        return np.argmax(qval)\n",
    "    \n",
    "    def learn(self, mini_batch):\n",
    "        # batch_size 만큼 크기의 loss의 합을 최소화\n",
    "        # zero_grad()를 매번 해줘야 하나?\n",
    "        loss = 0\n",
    "        for sample in mini_batch:\n",
    "            loss = loss + (sample['predict'] - self.q.forward(sample['state']))^2\n",
    "        self.optimizer.zero_grad()\n",
    "        loss.backward()\n",
    "        self.optimizer.step()\n",
    "    \n",
    "    def _compute_dqn_loss(self):\n",
    "        pass"
   ]
  },
  {
   "cell_type": "code",
   "execution_count": null,
   "id": "failing-canvas",
   "metadata": {},
   "outputs": [],
   "source": [
    "class ReplayBuffer():\n",
    "    def __init__(self, buffer_size, gamma):\n",
    "        # deque는 maxlen만큼만 FIFO\n",
    "        self._memory = deque(maxlen=buffer_size)\n",
    "        self.gamma = gamma\n",
    "    \n",
    "    def add(self, sample):\n",
    "        if sample['done']:\n",
    "            sample['predict'] = sample['reward']\n",
    "        else:\n",
    "            sample['predict'] = sample['reward'] + self.gamma*max(sample['qtarget'])\n",
    "        self._memory.append(sample)\n",
    "    \n",
    "    def sample(self, batch_size):\n",
    "        # random하게 batch_size만큼 sample\n",
    "        mini_batch = random.sample(self._memory, batch_size)        \n",
    "        return mini_batch"
   ]
  },
  {
   "cell_type": "code",
   "execution_count": null,
   "id": "afraid-product",
   "metadata": {},
   "outputs": [],
   "source": [
    "# parameters\n",
    "episode_len = 1000\n",
    "buffer_size = 1000\n",
    "batch_size = 10\n",
    "epsilon = 0.0\n",
    "gamma = 0.0\n",
    "\n",
    "# init class\n",
    "env = gym.make('CartPole-v0')\n",
    "agent = DQNAgent(env, epsilon)\n",
    "buffer = ReplayBuffer(buffer_size, gamma)\n",
    "\n",
    "# Playing Atari with Deep Reinforcement Learning, Algorithm 1\n",
    "# Q1. q 와 qtarget을 따로 둬야 하는 이유?\n",
    "# Q2. 매 스텝마다 learn을 해야 하는것인가?\n",
    "# Q3. 언제 network(q, qtarget)의 parameter를 업데이트?\n",
    "# Q4. DQN의 action selection strategy? greedy? -- 그냥 epsilon greedy\n",
    "# Q5. zero_grad()\n",
    "for i in range(episode_len):\n",
    "    state = env.reset()\n",
    "    while True:\n",
    "        action = agent.get_action(state)\n",
    "        next_state, reward, done, _ = env.step(action)\n",
    "        sample = {'state':state, 'reward': reward, 'done': done, 'qtarget': agent.qtarget.forward(next_state)}\n",
    "        buffer.add(sample)\n",
    "        mini_batch = buffer.sample(batch_size)\n",
    "        agent.learn(mini_batch)\n",
    "        agent.update_qtarget_parameter()\n",
    "        if done:\n",
    "            break"
   ]
  }
 ],
 "metadata": {
  "kernelspec": {
   "display_name": "Python 3",
   "language": "python",
   "name": "python3"
  },
  "language_info": {
   "codemirror_mode": {
    "name": "ipython",
    "version": 3
   },
   "file_extension": ".py",
   "mimetype": "text/x-python",
   "name": "python",
   "nbconvert_exporter": "python",
   "pygments_lexer": "ipython3",
   "version": "3.6.12"
  }
 },
 "nbformat": 4,
 "nbformat_minor": 5
}
