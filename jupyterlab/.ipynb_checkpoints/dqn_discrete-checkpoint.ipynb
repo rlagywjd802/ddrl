{
 "cells": [
  {
   "cell_type": "markdown",
   "id": "directed-internship",
   "metadata": {},
   "source": [
    "Jupyterlab Shortcuts\n",
    "- Shift + Enter : Run\n",
    "- Enter/Esc : Mode change(Edit/Command)\n",
    "- Fn + Up/Down : Move between cell \n",
    "- A / B : Insert Cell Above/Below\n",
    "- D, D : Delete selected cell"
   ]
  },
  {
   "cell_type": "code",
   "execution_count": 5,
   "id": "instant-mortgage",
   "metadata": {},
   "outputs": [],
   "source": [
    "import gym\n",
    "# discrete_env_name_list = [\"CartPole-v0\", \"MountainCar-v0\", \"LunarLander-v2\"]\n",
    "env = gym.make('CartPole-v0')\n",
    "state = env.reset()\n",
    "# for _ in range(1000):\n",
    "#     env.render()\n",
    "#     env.step(env.action_space.sample()) # take a random action\n",
    "# env.close()"
   ]
  },
  {
   "cell_type": "code",
   "execution_count": 12,
   "id": "unlike-assistant",
   "metadata": {},
   "outputs": [
    {
     "name": "stdout",
     "output_type": "stream",
     "text": [
      "4 2\n"
     ]
    }
   ],
   "source": [
    "nS = env.observation_space.shape[0]\n",
    "nA = env.action_space.n\n",
    "print(nS, nA)"
   ]
  },
  {
   "cell_type": "code",
   "execution_count": 4,
   "id": "catholic-digit",
   "metadata": {},
   "outputs": [],
   "source": [
    "from collections import deque\n",
    "import numpy as np\n",
    "import random\n",
    "import gym\n",
    "\n",
    "import torch\n",
    "import torch.nn as nn\n",
    "import torch.nn.functional as F\n",
    "import torch.optim as optim"
   ]
  },
  {
   "cell_type": "code",
   "execution_count": null,
   "id": "solved-portugal",
   "metadata": {},
   "outputs": [],
   "source": [
    "class Net(nn.Module):\n",
    "    def __init__(self, state_dim, action_dim):\n",
    "        super(Net, self).__init__()\n",
    "        self.fc1 = nn.Linear(state_dim, 120)\n",
    "        self.fc2 = nn.Linear(120, 84)\n",
    "        self.fc3 = nn.Linear(84, action_dim)\n",
    "        \n",
    "        self.criterion = nn.CrossEntropyLoss()\n",
    "        self.optimizer = optim.SGD(net.parameters(), lr=0.001, momentum=0.9)\n",
    "    \n",
    "    def forward(self, state):\n",
    "        out = F.relu(self.fc1(state))\n",
    "        out = F.relu(self.fc2(out))\n",
    "        out = F.softmax(self.fc3(out), dim=1) \n",
    "        return out\n",
    "    \n",
    "    def backward(self):\n",
    "        \n",
    "    \n",
    "    def update_parameter(self):\n",
    "        pass"
   ]
  },
  {
   "cell_type": "code",
   "execution_count": null,
   "id": "animated-trigger",
   "metadata": {},
   "outputs": [],
   "source": [
    "class DQNAgent():\n",
    "    def __init__(self, env):\n",
    "        # if env is discrete,\n",
    "        state_dim = env.observation_space.shape[0]\n",
    "        action_dim = env.action_space.n\n",
    "        \n",
    "        self.q = Net(state_dim, action_dim)\n",
    "        self.qtarget = Net(state_dim, action_dim)\n",
    "    \n",
    "    def get_action(self, state):\n",
    "        qval = self.q.forward(state)\n",
    "        return np.argmax(qval)\n",
    "    \n",
    "    def learn(self, mini_batch):\n",
    "        y = mini_batch\n",
    "        loss = (y - self.qtarget.forward(state))^2\n",
    "        self.q.backward(loss)"
   ]
  },
  {
   "cell_type": "code",
   "execution_count": null,
   "id": "ranging-breeding",
   "metadata": {},
   "outputs": [],
   "source": [
    "class ReplayBuffer():\n",
    "    def __init__(self, buffer_size):\n",
    "        # deque는 maxlen만큼만 FIFO\n",
    "        self.memory = deque(maxlen=buffer_size)\n",
    "    \n",
    "    def add(self, sample):\n",
    "        self.memory.append(sample)\n",
    "    \n",
    "    def sample(self, batch_size):\n",
    "        # random하게 batch_size만큼 sample\n",
    "        mini_batch = random.sample(self.memory, batch_size)        \n",
    "        return mini_batch"
   ]
  },
  {
   "cell_type": "code",
   "execution_count": null,
   "id": "vocational-saint",
   "metadata": {},
   "outputs": [],
   "source": [
    "# parameters\n",
    "episode_len = 1000\n",
    "buffer_size = 1000\n",
    "batch_size = 10\n",
    "\n",
    "# init class\n",
    "env = gym.make('CartPole-v0')\n",
    "agent = DQNAgent(env)\n",
    "buffer = ReplayBuffer(buffer_size)\n",
    "\n",
    "# Playing Atari with Deep Reinforcement Learning, Algorithm 1\n",
    "# Q1. q 와 qtarget을 따로 둬야 하는 이유?\n",
    "# Q2. 매 스텝마다 learn을 해야 하는것인가?\n",
    "# Q3. 언제 network(q, qtarget)의 parameter를 업데이트?\n",
    "for i in range(episode_len):\n",
    "    state = env.reset()\n",
    "    while True:\n",
    "        action = agent.get_action(state)\n",
    "        next_state, reward, done, _ = env.step(action)\n",
    "        buffer.add([state, action, reward, done, next_state])\n",
    "        mini_batch = buffer.sample(batch_size)\n",
    "        agent.learn(mini_batch)\n",
    "        if done:\n",
    "            break"
   ]
  }
 ],
 "metadata": {
  "kernelspec": {
   "display_name": "Python 3",
   "language": "python",
   "name": "python3"
  },
  "language_info": {
   "codemirror_mode": {
    "name": "ipython",
    "version": 3
   },
   "file_extension": ".py",
   "mimetype": "text/x-python",
   "name": "python",
   "nbconvert_exporter": "python",
   "pygments_lexer": "ipython3",
   "version": "3.6.12"
  }
 },
 "nbformat": 4,
 "nbformat_minor": 5
}
